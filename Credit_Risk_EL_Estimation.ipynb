{
  "nbformat": 4,
  "nbformat_minor": 0,
  "metadata": {
    "colab": {
      "name": "Credit Risk EL Estimation.ipynb",
      "provenance": [],
      "collapsed_sections": []
    },
    "kernelspec": {
      "name": "python3",
      "display_name": "Python 3"
    },
    "language_info": {
      "name": "python"
    }
  },
  "cells": [
    {
      "cell_type": "code",
      "metadata": {
        "id": "nstAGG0sbQo2"
      },
      "source": [
        "!pip install urlopen"
      ],
      "execution_count": null,
      "outputs": []
    },
    {
      "cell_type": "code",
      "metadata": {
        "id": "4HheMIELPY_O"
      },
      "source": [
        "import pandas as pd\n",
        "import pandas_datareader as dr\n",
        "# https://financialmodelingprep.com/developer/docs/"
      ],
      "execution_count": 63,
      "outputs": []
    },
    {
      "cell_type": "code",
      "metadata": {
        "colab": {
          "base_uri": "https://localhost:8080/"
        },
        "id": "PlKL4zEVbFYD",
        "outputId": "811aeba5-0cf8-4792-ce3b-91716cfc3acb"
      },
      "source": [
        "#!/usr/bin/env python\n",
        "\n",
        "try:\n",
        "    # For Python 3.0 and later\n",
        "    from urllib.request import urlopen\n",
        "except ImportError:\n",
        "    # Fall back to Python 2's urllib2\n",
        "    from urllib2 import urlopen\n",
        "\n",
        "import json\n",
        "\n",
        "def get_jsonparsed_data(url):\n",
        "    \"\"\"\n",
        "    Receive the content of ``url``, parse it as JSON and return the object.\n",
        "\n",
        "    Parameters\n",
        "    ----------\n",
        "    url : str\n",
        "\n",
        "    Returns\n",
        "    -------\n",
        "    dict\n",
        "    \"\"\"\n",
        "    response = urlopen(url)\n",
        "    data = response.read().decode(\"utf-8\")\n",
        "    return json.loads(data)\n",
        "\n",
        "url1 = (\"https://financialmodelingprep.com/api/v3/profile/AAPL?period=quater&dataype=xls\")\n",
        "url = (\"https://financialmodelingprep.com/api/v3/profile/AAPL?apikey=demo\")\n",
        "print(get_jsonparsed_data(url))"
      ],
      "execution_count": 11,
      "outputs": [
        {
          "output_type": "stream",
          "text": [
            "[{'symbol': 'AAPL', 'price': 127.2, 'beta': 1.203743, 'volAvg': 89753871, 'mktCap': 2122662674432, 'lastDiv': 0.835, 'range': '83.145-145.09', 'changes': 1.09, 'companyName': 'Apple Inc.', 'currency': 'USD', 'cik': '0000320193', 'isin': 'US0378331005', 'cusip': '037833100', 'exchange': 'Nasdaq Global Select', 'exchangeShortName': 'NASDAQ', 'industry': 'Consumer Electronics', 'website': 'http://www.apple.com', 'description': 'Apple Inc. designs, manufactures, and markets smartphones, personal computers, tablets, wearables, and accessories worldwide. It also sells various related services. The company offers iPhone, a line of smartphones; Mac, a line of personal computers; iPad, a line of multi-purpose tablets; and wearables, home, and accessories comprising AirPods, Apple TV, Apple Watch, Beats products, HomePod, iPod touch, and other Apple-branded and third-party accessories. It also provides AppleCare support services; cloud services store services; and operates various platforms, including the App Store, that allow customers to discover and download applications and digital content, such as books, music, video, games, and podcasts. In addition, the company offers various services, such as Apple Arcade, a game subscription service; Apple Music, which offers users a curated listening experience with on-demand radio stations; Apple News+, a subscription news and magazine service; Apple TV+, which offers exclusive original content; Apple Card, a co-branded credit card; and Apple Pay, a cashless payment service, as well as licenses its intellectual property. The company serves consumers, and small and mid-sized businesses; and the education, enterprise, and government markets. It sells and delivers third-party applications for its products through the App Store. The company also sells its products through its retail and online stores, and direct sales force; and third-party cellular network carriers, wholesalers, retailers, and resellers. Apple Inc. was founded in 1977 and is headquartered in Cupertino, California.', 'ceo': 'Mr. Timothy Cook', 'sector': 'Technology', 'country': 'US', 'fullTimeEmployees': '100000', 'phone': '14089961010', 'address': '1 Apple Park Way', 'city': 'Cupertino', 'state': 'CALIFORNIA', 'zip': '95014', 'dcfDiff': 89.92, 'dcf': 128.279, 'image': 'https://financialmodelingprep.com/image-stock/AAPL.png', 'ipoDate': '1980-12-12', 'defaultImage': False, 'isEtf': False, 'isActivelyTrading': True}]\n",
            "{'Error Message': 'Invalid API KEY. Please retry or visit our documentation to create one FREE https://financialmodelingprep.com/developer/docs'}\n"
          ],
          "name": "stdout"
        }
      ]
    },
    {
      "cell_type": "code",
      "metadata": {
        "colab": {
          "base_uri": "https://localhost:8080/"
        },
        "id": "J0qFiTxpPiR7",
        "outputId": "e53c97f8-5b44-4163-b4e7-6bb9e60c396f"
      },
      "source": [
        "# EAD : usually given by internal bank \n",
        "UGS = {'AAA': 0.69, 'BBB': 0.65, 'CCC': 0.44}\n",
        "Ratings = 'BBB'\n",
        "Bond = 500\n",
        "Unused = 500\n",
        "\n",
        "EAD = Bond + Unused*UGS[Ratings]\n",
        "print(\"EAD: \", EAD)"
      ],
      "execution_count": 42,
      "outputs": [
        {
          "output_type": "stream",
          "text": [
            "EAD:  825.0\n"
          ],
          "name": "stdout"
        }
      ]
    },
    {
      "cell_type": "code",
      "metadata": {
        "colab": {
          "base_uri": "https://localhost:8080/"
        },
        "id": "G4JnYdG5cWi5",
        "outputId": "19bf2975-fa74-4cfa-f701-1a94ad3f90f0"
      },
      "source": [
        "# PD : merton's model\n",
        "\n",
        "from scipy.stats import norm\n",
        "import numpy as np\n",
        "\n",
        "def spreadMerton(A, K, tau, sigma, r):\n",
        "  d1 = (np.log(A/K)+(r+sigma*sigma/2)*tau)/(sigma*np.sqrt(tau))\n",
        "  d2 = d1 - sigma*np.sqrt(tau)\n",
        "  s =  -1/tau*np.log(norm.cdf(d2)+A*np.exp(r*tau)*norm.cdf(-d1)/K)\n",
        "  return s\n",
        "\n",
        "def PD(A, K, T, t, sigma, r):\n",
        "  DD = (np.log(A) - np.log(K) + (r - sigma*sigma/2)*(T-t))/(sigma*np.sqrt(T-t))\n",
        "  return norm.cdf(-DD)\n",
        "\n",
        "A = 100\n",
        "K = 60\n",
        "tau = 10\n",
        "sigma = 0.3\n",
        "mu = 0.1\n",
        "t = 1\n",
        "T = t + tau\n",
        "\n",
        "print(spreadMerton(A, K, tau, sigma, mu))\n",
        "print(PD(A, K, T, t, sigma, mu))"
      ],
      "execution_count": 58,
      "outputs": [
        {
          "output_type": "stream",
          "text": [
            "0.004497008966969396\n",
            "0.1317390008082639\n"
          ],
          "name": "stdout"
        }
      ]
    },
    {
      "cell_type": "code",
      "metadata": {
        "colab": {
          "base_uri": "https://localhost:8080/",
          "height": 282
        },
        "id": "68MQjMk9c-H7",
        "outputId": "9a3e9deb-6e66-4acb-bfb8-623212e36bbe"
      },
      "source": [
        "# LGD : beta distribution \n",
        "from scipy.stats import beta\n",
        "import matplotlib.pyplot as plt\n",
        "\n",
        "a = 2\n",
        "b = 3\n",
        "r = beta.rvs(a, b, size=1000)\n",
        "plt.hist(r, density=True, histtype='stepfilled', alpha=0.2)\n",
        "x = np.linspace(beta.ppf(0.01, a, b), beta.ppf(0.99, a, b), 100)\n",
        "plt.plot(x, beta.pdf(x, a, b), 'r-', lw=5, alpha=0.6, label='beta pdf')\n",
        "plt.legend()\n",
        "plt.show()\n",
        "\n",
        "# fit beta\n",
        "alpha, beta, loc, scale  = beta.fit(r)\n",
        "LGD = 1 - (alpha/(alpha+beta))\n",
        "print(\"LGD:\", LGD)"
      ],
      "execution_count": 59,
      "outputs": [
        {
          "output_type": "display_data",
          "data": {
            "image/png": "[encoded data removed]",
            "text/plain": [
              "<Figure size 432x288 with 1 Axes>"
            ]
          },
          "metadata": {
            "tags": [],
            "needs_background": "light"
          }
        },
        {
          "output_type": "stream",
          "text": [
            "LGD: 0.5924667932830912\n"
          ],
          "name": "stdout"
        }
      ]
    },
    {
      "cell_type": "code",
      "metadata": {
        "colab": {
          "base_uri": "https://localhost:8080/"
        },
        "id": "Vl2DOU54k4bd",
        "outputId": "36f2ed9e-0645-4edd-99b6-066d232e8744"
      },
      "source": [
        "EL = EAD*LGD*PD(A, K, T, t, sigma, mu)\n",
        "print(\"EL: \",EL)"
      ],
      "execution_count": 60,
      "outputs": [
        {
          "output_type": "stream",
          "text": [
            "EL:  64.3920612713323\n"
          ],
          "name": "stdout"
        }
      ]
    },
    {
      "cell_type": "code",
      "metadata": {
        "id": "Ys7Lpo_Uqb45"
      },
      "source": [
        ""
      ],
      "execution_count": 60,
      "outputs": []
    }
  ]
}